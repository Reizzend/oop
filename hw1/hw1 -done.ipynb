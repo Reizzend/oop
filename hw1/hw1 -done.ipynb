{
  "nbformat": 4,
  "nbformat_minor": 0,
  "metadata": {
    "colab": {
      "name": "Python_hw.ipynb",
      "provenance": [],
      "collapsed_sections": []
    },
    "kernelspec": {
      "name": "python3",
      "display_name": "Python 3"
    },
    "language_info": {
      "name": "python"
    }
  },
  "cells": [
    {
      "cell_type": "code",
      "source": [
        "!wget https://gist.githubusercontent.com/NooblyRand0m/404c8a252f89862654c3fa6bba3d8bc3/raw/26c97aa3876ef33f3509e3b1209402c5c138f06c/coursera_week3_cars.csv"
      ],
      "metadata": {
        "colab": {
          "base_uri": "https://localhost:8080/"
        },
        "id": "AEoSNC8jRzQH",
        "outputId": "6476bba4-9e28-40ac-f658-cb5fc83d2b7e"
      },
      "execution_count": 11,
      "outputs": [
        {
          "output_type": "stream",
          "name": "stdout",
          "text": [
            "--2022-06-12 14:19:30--  https://gist.githubusercontent.com/NooblyRand0m/404c8a252f89862654c3fa6bba3d8bc3/raw/26c97aa3876ef33f3509e3b1209402c5c138f06c/coursera_week3_cars.csv\n",
            "Resolving gist.githubusercontent.com (gist.githubusercontent.com)... 185.199.108.133, 185.199.109.133, 185.199.110.133, ...\n",
            "Connecting to gist.githubusercontent.com (gist.githubusercontent.com)|185.199.108.133|:443... connected.\n",
            "HTTP request sent, awaiting response... 200 OK\n",
            "Length: 287 [text/plain]\n",
            "Saving to: ‘coursera_week3_cars.csv’\n",
            "\n",
            "\rcoursera_week3_cars   0%[                    ]       0  --.-KB/s               \rcoursera_week3_cars 100%[===================>]     287  --.-KB/s    in 0s      \n",
            "\n",
            "2022-06-12 14:19:30 (12.0 MB/s) - ‘coursera_week3_cars.csv’ saved [287/287]\n",
            "\n"
          ]
        }
      ]
    },
    {
      "cell_type": "code",
      "source": [
        "!head coursera_week3_cars.csv"
      ],
      "metadata": {
        "colab": {
          "base_uri": "https://localhost:8080/"
        },
        "id": "WqGdhnbkR_ij",
        "outputId": "9342b805-f3dc-4634-f781-9e3315e95d8d"
      },
      "execution_count": 12,
      "outputs": [
        {
          "output_type": "stream",
          "name": "stdout",
          "text": [
            "car_type;brand;passenger_seats_count;photo_file_name;body_whl;carrying;extra\n",
            "car;Nissan xTtrail;4;f1.jpeg;;2.5;\n",
            "truck;Man;;f2.png;8x3x2.5;20;\n",
            "truck;Man;;f2.png;;20;\n",
            "car;Mazda 6;4;f3.jpeg;;2.5;\n",
            ";;;\n",
            "spec_machine;Hitachi;;f4;;1.2;Легкая техника для уборки снега\n",
            "\n"
          ]
        }
      ]
    },
    {
      "cell_type": "code",
      "execution_count": 44,
      "metadata": {
        "id": "6-GgpWambjLf"
      },
      "outputs": [],
      "source": [
        "import csv\n",
        "csv_filename = 'coursera_week3_cars.csv'\n",
        "\n",
        "class CarBase:\n",
        "    def __init__(self, brand, photo_file_name, carrying):\n",
        "        self.brand = brand\n",
        "        if photo_file_name[-5:] == '.jpeg' or photo_file_name[-4:] == '.jpg' or photo_file_name[-4:] == '.png' or photo_file_name[-4:] == '.gif':\n",
        "          self.photo_file_name = photo_file_name\n",
        "        else: \n",
        "          self.photo_file_name = ''\n",
        "        try:\n",
        "          self.carrying = float(carrying)\n",
        "        except ValueError:\n",
        "          self.carrying = 0.0\n",
        "        \n",
        "        \n",
        "    def get_photo_file_ext(self):\n",
        "      return(os.path.splitext(self.photo_file_name)[-1])\n",
        "\n",
        "\n",
        "\n",
        "class Car(CarBase):\n",
        "    def __init__(self, brand, photo_file_name, carrying, passenger_seats_count):\n",
        "        self.car_type=\"car\"\n",
        "        super().__init__(brand, photo_file_name, carrying)\n",
        "        try:\n",
        "          self.passenger_seats_count = int(passenger_seats_count)\n",
        "        except:\n",
        "          self.passenger_seats_count = 0\n",
        "  \n",
        "\n",
        "\n",
        "\n",
        "class Truck(CarBase):\n",
        "    def __init__(self, brand, photo_file_name, carrying, body_whl):\n",
        "        self.car_type=\"truck\"\n",
        "        super().__init__(brand, photo_file_name, carrying)\n",
        "        def splitter(v):\n",
        "          k = []\n",
        "          for i in v:\n",
        "            if i != 'x':\n",
        "              k.append(float(i))\n",
        "            else:\n",
        "              pass\n",
        "          return k\n",
        "        if body_whl:\n",
        "            self.body_whl = body_whl\n",
        "            try:\n",
        "              self.body_length, self.body_width, self.body_height = splitter(body_whl)\n",
        "            except:\n",
        "              self.body_length, self.body_width, self.body_height = float(0), float(0), float(0)\n",
        "        else:\n",
        "            self.body_whl = \"0x0x0\"\n",
        "            self.body_length, self.body_width, self.body_height = float(0), float(0), float(0)\n",
        "        \n",
        "    def get_body_volume(self):\n",
        "      return self.body_length * self.body_width * self.body_height\n",
        "\n",
        "class SpecMachine(CarBase):\n",
        "    def __init__(self, brand, photo_file_name, carrying, extra):\n",
        "        self.car_type=\"spec_machine\"\n",
        "        super().__init__(brand, photo_file_name, carrying)\n",
        "        if type(extra) == str:\n",
        "          self.extra = extra\n",
        "        else:\n",
        "          self.extra = ''\n",
        "\n",
        "def get_car_list(csv_filename):\n",
        "    car_list = []\n",
        "    with open(csv_filename) as csv_fd:\n",
        "      reader = csv.reader(csv_fd, delimiter=';')\n",
        "      next(reader)  # пропускаем заголовок\n",
        "      for row in reader:\n",
        "        try:\n",
        "          if row[0] == 'car':\n",
        "            car = Car(row[1], row[3], row[5], row[2])\n",
        "            car_list.append(car)\n",
        "          elif row[0] == 'truck':\n",
        "            car = Truck(row[1], row[3], row[5], row[4])\n",
        "            car_list.append(car)\n",
        "          elif row[0] == 'spec_machine':\n",
        "            car = SpecMachine(row[1], row[3], row[5], row[6])\n",
        "            car_list.append(car)\n",
        "          else:\n",
        "            pass\n",
        "        except:\n",
        "          pass\n",
        "    return car_list"
      ]
    },
    {
      "cell_type": "code",
      "source": [
        "#Отладка\n",
        "car = Car('Nissan', 'g1.jpg', '1.3', '4')\n",
        "print(car.car_type, car.brand, car.photo_file_name, car.carrying, car.passenger_seats_count, sep='\\n')\n",
        "\n",
        "truck = Truck('Nissan', 't1.jpg', '2.5', '')\n",
        "print(truck.car_type, truck.brand, truck.photo_file_name, truck.body_length, truck.body_width, truck.body_height, sep='\\n')\n",
        "\n",
        "spec_machine = SpecMachine('Komatsu-D355', 'd355.jpg', '93', 'pipelayer specs')\n",
        "print(spec_machine.car_type, spec_machine.brand, spec_machine.carrying, spec_machine.photo_file_name, spec_machine.extra, sep='\\n')\n",
        "\n",
        "print(spec_machine.get_photo_file_ext())\n",
        "\n",
        "cars = get_car_list(csv_filename)\n",
        "\n",
        "print(cars)\n",
        "print(len(cars))\n",
        "\n",
        "truck = Truck('Nissan', '1.jpg', '2.5', '0x0x0')\n",
        "truck.get_body_volume()"
      ],
      "metadata": {
        "colab": {
          "base_uri": "https://localhost:8080/"
        },
        "id": "f2o0avPWTCo5",
        "outputId": "9dd4c908-82b8-4365-8860-8159b6f3d73c"
      },
      "execution_count": 45,
      "outputs": [
        {
          "output_type": "stream",
          "name": "stdout",
          "text": [
            "car\n",
            "Nissan\n",
            "g1.jpg\n",
            "1.3\n",
            "4\n",
            "truck\n",
            "Nissan\n",
            "t1.jpg\n",
            "0.0\n",
            "0.0\n",
            "0.0\n",
            "spec_machine\n",
            "Komatsu-D355\n",
            "93.0\n",
            "d355.jpg\n",
            "pipelayer specs\n",
            ".jpg\n",
            "[<__main__.Car object at 0x7f3d48708c50>, <__main__.Truck object at 0x7f3d48786ed0>, <__main__.Truck object at 0x7f3d487083d0>, <__main__.Car object at 0x7f3d48708710>, <__main__.SpecMachine object at 0x7f3d48708410>]\n",
            "5\n"
          ]
        },
        {
          "output_type": "execute_result",
          "data": {
            "text/plain": [
              "0.0"
            ]
          },
          "metadata": {},
          "execution_count": 45
        }
      ]
    }
  ]
}